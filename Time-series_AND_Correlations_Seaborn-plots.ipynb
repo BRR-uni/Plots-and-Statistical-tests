{
  "cells": [
    {
      "cell_type": "code",
      "execution_count": null,
      "metadata": {
        "id": "VTDFMzyprHPt"
      },
      "outputs": [],
      "source": [
        "# Import numpy and matplotlib pyplot\n",
        "import numpy as np\n",
        "from matplotlib import pyplot as plt\n",
        "# Import seaborn\n",
        "import seaborn as sns\n",
        "# Apply the default theme\n",
        "sns.set_theme()\n",
        "# Import pandas\n",
        "import pandas as pd"
      ]
    },
    {
      "cell_type": "code",
      "execution_count": null,
      "metadata": {},
      "outputs": [],
      "source": [
        "# Load dataset\n",
        "BD = pd.read_excel('BD Maestría WT.xlsx', sheet_name='full_data') # Full dataset\n",
        "BD_Y_m = pd.read_excel('BD Maestría WT.xlsx', sheet_name='Y_m') # Load just young male data\n",
        "BD_Y_h = pd.read_excel('BD Maestría WT.xlsx', sheet_name='Y_h') # Load just young female data\n",
        "BD_O_m = pd.read_excel('BD Maestría WT.xlsx', sheet_name='O_m') # Load just old male data\n",
        "BD_O_h = pd.read_excel('BD Maestría WT.xlsx', sheet_name='O_h') # Load just old female data"
      ]
    },
    {
      "cell_type": "code",
      "execution_count": null,
      "metadata": {
        "colab": {
          "base_uri": "https://localhost:8080/",
          "height": 1000
        },
        "id": "8xyd8dag2qj1",
        "outputId": "98ef28a5-dccd-415e-fee8-ccd8343aa53e"
      },
      "outputs": [],
      "source": [
        "# Plot a jointplot to visualize the relationship between two variables at the same time as the distribution of each variable\n",
        "x=\"Cetónicos 10\"\n",
        "y=\"Fragilidad 10\"\n",
        "sns.jointplot(data=BD_Y_m, x=x, y=y, hue=\"Dieta\")\n",
        "sns.jointplot(data=BD_O_m, x=x, y=y, hue=\"Dieta\")\n",
        "sns.jointplot(data=BD_Y_h, x=x, y=y, hue=\"Dieta\")\n",
        "sns.jointplot(data=BD_O_h, x=x, y=y, hue=\"Dieta\")"
      ]
    },
    {
      "cell_type": "code",
      "execution_count": null,
      "metadata": {},
      "outputs": [],
      "source": [
        "# Ploting the time series for the variables  that were measured trough time\n",
        "\n",
        "sns.set_theme(style=\"darkgrid\")\n",
        "BD_melt = pd.read_excel('BD Maestría WT.xlsx', sheet_name='melt_full_data') # Load a melt table of the full data to plot the time series\n",
        "\n",
        "colors = np.asarray([(0, 53, 63, 150), (212, 111, 77, 150),\n",
        "                     (30, 169, 188, 150), (255, 191, 102, 150),\n",
        "                     (0,0,0,0), (230, 0, 0,200)]) # Initialize an array of colors in RGB\n",
        "colors = [i/255 for i in colors]    # Corresponding colors mapped from 0 to 1 so that Python interprets them correctly\n",
        "sns.set_palette(palette=colors)\n",
        "\n",
        "# Initialize variables to iterate\n",
        "s =\"machos\"\n",
        "variable = \"% Cambio Peso\"\n",
        "\n",
        "for (a,variable) in enumerate(BD_melt): # For loop to iterate trough the data\n",
        "  if a > 5:\n",
        "    for s in [\"machos\",\"hembras\"]:\n",
        "      g = sns.lineplot(x=\"Semana\", y=variable,\n",
        "                  hue=\"Grupo\", errorbar=(\"se\"), style=\"Edad\",\n",
        "                  hue_order=[\"CD-Y\", \"KD-Y\", \"CD-O\", \"KD-O\"],\n",
        "                  style_order=[\"Y\",\"O\"],\n",
        "                  data=BD_melt[BD_melt[\"Sexo\"] == s])\n",
        "\n",
        "      sns.move_legend(g, \"upper left\", bbox_to_anchor=(1, 1)) # Move legend to the desired spot\n",
        "      ax = g.axes\n",
        "\n",
        "      # Set the y axis limits and the y labels corresponding to each variable\n",
        "      if variable == \"Peso\":\n",
        "        ax.set_ylim(22,36)\n",
        "        g.set(ylabel = \"Peso (g)\\n\")\n",
        "      if variable == \"% Cambio Peso\":\n",
        "        ax.set_ylim(-10,22)\n",
        "        g.set(ylabel = \"Cambio de peso (%)\\n\")\n",
        "      if variable == \"Glucosa\":\n",
        "        ax.set_ylim(0,200)\n",
        "        g.set(ylabel = \"Glucosa en sangre \\n (mg/dL)\")\n",
        "      if variable == \"Cetónicos\":\n",
        "        ax.set_ylim(0.35,3)\n",
        "        g.set(ylabel = \"BHB en sangre \\n (mmol/L)\")\n",
        "      if variable == \"Fragilidad\":\n",
        "        ax.set_ylim(0.01,0.145)\n",
        "        g.set(ylabel = \"Índice de fragilidad\\n\")\n",
        "\n",
        "      # Making sure that legend is displayed just in female plot that should be displayed to the right most of both plots, and y label just in male plot\n",
        "      if s == \"machos\":\n",
        "        plt.legend([],[], frameon=False)\n",
        "        g.set(title = \"Machos\\n\")\n",
        "      else:\n",
        "        g.set(title = \"Hembras\\n\")\n",
        "        g.set(ylabel = \"\")\n",
        "      plt.show()"
      ]
    },
    {
      "cell_type": "code",
      "execution_count": null,
      "metadata": {
        "colab": {
          "base_uri": "https://localhost:8080/",
          "height": 1000
        },
        "id": "PQESLz73CIcD",
        "outputId": "cd57f00a-092b-481b-bf35-dd15f6c5efe0"
      },
      "outputs": [],
      "source": [
        "# Ploting the time series for the variables  that were measured trough time with additional data points\n",
        "\n",
        "sns.set_theme(style=\"darkgrid\")\n",
        "BD_melt = pd.read_excel('BD Maestría WT.xlsx', sheet_name='melt_extra_data') # Load a melt table of the full data + extra datapoints\n",
        "\n",
        "\n",
        "colors = np.asarray([(0, 53, 63, 150), (212, 111, 77, 150),\n",
        "                     (30, 169, 188, 150), (255, 191, 102, 150),\n",
        "                     (0,0,0,0), (230, 0, 0,200)]) # Initialize an array of colors in RGB\n",
        "colors = [i/255 for i in colors]    # Corresponding colors mapped from 0 to 1 so that Python interprets them correctly\n",
        "sns.set_palette(palette=colors)\n",
        "\n",
        "# Initialize variables to iterate\n",
        "s =\"machos\"\n",
        "variable = \"% Cambio Peso\"\n",
        "\n",
        "for (a,variable) in enumerate(BD_melt): # For loop to iterate trough the data\n",
        "  if a > 5:\n",
        "    for s in [\"machos\",\"hembras\"]:\n",
        "      g = sns.lineplot(x=\"Semana\", y=variable,\n",
        "                  hue=\"Grupo\", errorbar=(\"se\"), style=\"Edad\",\n",
        "                  hue_order=[\"CD-Y\", \"KD-Y\", \"CD-O\", \"KD-O\", \"C\", \"P\"],\n",
        "                  style_order=[\"Y\",\"O\",\"C\",\"P\"],\n",
        "                  data=BD_melt[BD_melt[\"Sexo\"] == s])\n",
        "\n",
        "      sns.move_legend(g, \"upper left\", bbox_to_anchor=(1, 1)) # Move legend to the desired spot\n",
        "      ax = g.axes\n",
        "\n",
        "      # Set the y axis limits and the y labels corresponding to each variable - these will vary form the full data withowt the additional datapoints -\n",
        "      if variable == \"Peso\":\n",
        "        ax.set_ylim(22,42)\n",
        "        g.set(ylabel = \"Peso (g)\\n\")\n",
        "      if variable == \"% Cambio Peso\":\n",
        "        ax.set_ylim(-10,62)\n",
        "        g.set(ylabel = \"Cambio de peso (%)\\n\")\n",
        "      if variable == \"Glucosa\":\n",
        "        ax.set_ylim(0,200)\n",
        "        g.set(ylabel = \"Glucosa en sangre \\n (mg/dL)\")\n",
        "      if variable == \"Cetónicos\":\n",
        "        ax.set_ylim(0.35,3)\n",
        "        g.set(ylabel = \"BHB en sangre \\n (mmol/L)\")\n",
        "      if variable == \"Fragilidad\":\n",
        "        ax.set_ylim(0.01,0.145)\n",
        "        g.set(ylabel = \"Índice de fragilidad\\n\")\n",
        "\n",
        "      # Making sure that legend is displayed just in female plot that should be displayed to the right most of both plots, and y label just in male plot\n",
        "      if s == \"machos\":\n",
        "        plt.legend([],[], frameon=False)\n",
        "        g.set(title = \"Machos\\n\")\n",
        "      else:\n",
        "        g.set(title = \"Hembras\\n\")\n",
        "        g.set(ylabel = \"\")\n",
        "      plt.show()"
      ]
    }
  ],
  "metadata": {
    "colab": {
      "provenance": []
    },
    "kernelspec": {
      "display_name": "Python 3",
      "name": "python3"
    },
    "language_info": {
      "codemirror_mode": {
        "name": "ipython",
        "version": 3
      },
      "file_extension": ".py",
      "mimetype": "text/x-python",
      "name": "python",
      "nbconvert_exporter": "python",
      "pygments_lexer": "ipython3",
      "version": "3.10.9"
    }
  },
  "nbformat": 4,
  "nbformat_minor": 0
}
